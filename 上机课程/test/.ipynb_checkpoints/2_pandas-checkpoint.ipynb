{
 "cells": [
  {
   "cell_type": "markdown",
   "id": "b7abedc2-fd31-4f77-9171-fc535bffcdfa",
   "metadata": {},
   "source": [
    "# Pandas 上机操作\n",
    "通过前面的学习，我们已经了解到了 pandas dataframe是什么和pandas的基础用法，今天我们来实际操作一下。  \n",
    "本次上机的学习目标如下：  \n",
    " (1)使用pandas导入时间序列数据集，并将日期转换为Python 中的对象。   \n",
    " (2)解释“no data”值的作用，以及如何在 Python 中处理“no data”值。   \n",
    " (3)在Pandas中使用索引和重采样时序数据"
   ]
  },
  {
   "cell_type": "markdown",
   "id": "52ce1af5-bf50-4fa1-bf50-d2f413cbfa75",
   "metadata": {},
   "source": [
    "## 为什么在 Python 中使用日期时间对象\n",
    "\n",
    "在任何编程语言中，处理日期可能都很麻烦。虽然我们可能会在数据集中看到日期并将其识别为可以量化并与时间相关的内容，但计算机会读取数字和字符。通常，默认情况下，日期信息作为字符串（即一组字符）加载，而不是具有时间顺序的内容。  \n",
    "Python对象使处理和绘制时间序列数据变得更加容易。我们可以将包含日期和时间的pandas dataframe列转换为Python对象。"
   ]
  },
  {
   "cell_type": "markdown",
   "id": "19700570-f533-4174-afbf-c9381fd9099f",
   "metadata": {},
   "source": [
    "## 1 将包含日期转换为Python对象\n",
    "**(1)首先，导入在 Python 中处理表格数据所需的包。**"
   ]
  },
  {
   "cell_type": "code",
   "execution_count": null,
   "id": "f0bc9ccf-ec23-42cb-ac27-3d8798c9dbfd",
   "metadata": {
    "tags": []
   },
   "outputs": [],
   "source": [
    "!pip install matplotlib\n",
    "!pip install seaborn\n",
    "!pip install earthpy"
   ]
  },
  {
   "cell_type": "code",
   "execution_count": 24,
   "id": "60cba0dc-50d7-4f07-a95b-15ca43c74660",
   "metadata": {
    "tags": []
   },
   "outputs": [],
   "source": [
    "# Import necessary packages\n",
    "from matplotlib.axes._axes import _log as matplotlib_axes_logger\n",
    "import os\n",
    "import matplotlib.pyplot as plt\n",
    "import seaborn as sns\n",
    "import pandas as pd\n",
    "import earthpy as et"
   ]
  },
  {
   "cell_type": "code",
   "execution_count": 25,
   "id": "3ea09024-1373-4e23-b9bd-19514efa7d88",
   "metadata": {
    "tags": []
   },
   "outputs": [],
   "source": [
    "# 处理panda和matplotlib之间的日期-时间转换\n",
    "from pandas.plotting import register_matplotlib_converters\n",
    "register_matplotlib_converters()"
   ]
  },
  {
   "cell_type": "code",
   "execution_count": 26,
   "id": "fe812810-82e0-47cb-ac34-45977113d1a7",
   "metadata": {
    "tags": []
   },
   "outputs": [],
   "source": [
    "# Dealing with error thrown by one of the plots\n",
    "matplotlib_axes_logger.setLevel('ERROR')\n",
    "import warnings\n",
    "warnings.filterwarnings('ignore')"
   ]
  },
  {
   "cell_type": "code",
   "execution_count": 27,
   "id": "42db9b93-79c4-402a-b550-ea2e85dbec3f",
   "metadata": {
    "tags": []
   },
   "outputs": [],
   "source": [
    "# 调整字体大小和样式\n",
    "sns.set(font_scale=1.5, style=\"whitegrid\")"
   ]
  },
  {
   "cell_type": "markdown",
   "id": "3aa0d118-81b5-44e8-a28b-72fda9eac564",
   "metadata": {},
   "source": [
    "**（2）接下来，将要处理的数据传入平台。然后打开Boulder, Colorado的降水数据，查看数据结构。**"
   ]
  },
  {
   "cell_type": "code",
   "execution_count": 28,
   "id": "a2d5c1d0-fcd0-49bc-88f5-8f2a13fc941f",
   "metadata": {
    "tags": []
   },
   "outputs": [
    {
     "data": {
      "text/html": [
       "<div>\n",
       "<style scoped>\n",
       "    .dataframe tbody tr th:only-of-type {\n",
       "        vertical-align: middle;\n",
       "    }\n",
       "\n",
       "    .dataframe tbody tr th {\n",
       "        vertical-align: top;\n",
       "    }\n",
       "\n",
       "    .dataframe thead th {\n",
       "        text-align: right;\n",
       "    }\n",
       "</style>\n",
       "<table border=\"1\" class=\"dataframe\">\n",
       "  <thead>\n",
       "    <tr style=\"text-align: right;\">\n",
       "      <th></th>\n",
       "      <th>STATION</th>\n",
       "      <th>STATION_NAME</th>\n",
       "      <th>ELEVATION</th>\n",
       "      <th>LATITUDE</th>\n",
       "      <th>LONGITUDE</th>\n",
       "      <th>DATE</th>\n",
       "      <th>HPCP</th>\n",
       "      <th>Measurement Flag</th>\n",
       "      <th>Quality Flag</th>\n",
       "    </tr>\n",
       "  </thead>\n",
       "  <tbody>\n",
       "    <tr>\n",
       "      <th>0</th>\n",
       "      <td>COOP:050843</td>\n",
       "      <td>BOULDER 2 CO US</td>\n",
       "      <td>1650.5</td>\n",
       "      <td>40.03389</td>\n",
       "      <td>-105.28111</td>\n",
       "      <td>20030101 01:00</td>\n",
       "      <td>0.0</td>\n",
       "      <td>g</td>\n",
       "      <td></td>\n",
       "    </tr>\n",
       "    <tr>\n",
       "      <th>1</th>\n",
       "      <td>COOP:050843</td>\n",
       "      <td>BOULDER 2 CO US</td>\n",
       "      <td>1650.5</td>\n",
       "      <td>40.03389</td>\n",
       "      <td>-105.28111</td>\n",
       "      <td>20030201 01:00</td>\n",
       "      <td>0.0</td>\n",
       "      <td>g</td>\n",
       "      <td></td>\n",
       "    </tr>\n",
       "    <tr>\n",
       "      <th>2</th>\n",
       "      <td>COOP:050843</td>\n",
       "      <td>BOULDER 2 CO US</td>\n",
       "      <td>1650.5</td>\n",
       "      <td>40.03389</td>\n",
       "      <td>-105.28111</td>\n",
       "      <td>20030202 19:00</td>\n",
       "      <td>0.2</td>\n",
       "      <td></td>\n",
       "      <td></td>\n",
       "    </tr>\n",
       "    <tr>\n",
       "      <th>3</th>\n",
       "      <td>COOP:050843</td>\n",
       "      <td>BOULDER 2 CO US</td>\n",
       "      <td>1650.5</td>\n",
       "      <td>40.03389</td>\n",
       "      <td>-105.28111</td>\n",
       "      <td>20030202 22:00</td>\n",
       "      <td>0.1</td>\n",
       "      <td></td>\n",
       "      <td></td>\n",
       "    </tr>\n",
       "    <tr>\n",
       "      <th>4</th>\n",
       "      <td>COOP:050843</td>\n",
       "      <td>BOULDER 2 CO US</td>\n",
       "      <td>1650.5</td>\n",
       "      <td>40.03389</td>\n",
       "      <td>-105.28111</td>\n",
       "      <td>20030203 02:00</td>\n",
       "      <td>0.1</td>\n",
       "      <td></td>\n",
       "      <td></td>\n",
       "    </tr>\n",
       "  </tbody>\n",
       "</table>\n",
       "</div>"
      ],
      "text/plain": [
       "       STATION     STATION_NAME  ELEVATION  LATITUDE  LONGITUDE  \\\n",
       "0  COOP:050843  BOULDER 2 CO US     1650.5  40.03389 -105.28111   \n",
       "1  COOP:050843  BOULDER 2 CO US     1650.5  40.03389 -105.28111   \n",
       "2  COOP:050843  BOULDER 2 CO US     1650.5  40.03389 -105.28111   \n",
       "3  COOP:050843  BOULDER 2 CO US     1650.5  40.03389 -105.28111   \n",
       "4  COOP:050843  BOULDER 2 CO US     1650.5  40.03389 -105.28111   \n",
       "\n",
       "             DATE  HPCP Measurement Flag Quality Flag  \n",
       "0  20030101 01:00   0.0                g               \n",
       "1  20030201 01:00   0.0                g               \n",
       "2  20030202 19:00   0.2                                \n",
       "3  20030202 22:00   0.1                                \n",
       "4  20030203 02:00   0.1                                "
      ]
     },
     "execution_count": 28,
     "metadata": {},
     "output_type": "execute_result"
    }
   ],
   "source": [
    "# Import the file as a pandas dataframe\n",
    "boulder_precip_2003_2013 = pd.read_csv(\"../earth-analytics/data/805325-precip-daily-2003-2013.csv\")\n",
    "boulder_precip_2003_2013.head()"
   ]
  },
  {
   "cell_type": "markdown",
   "id": "98643349-3fcb-439e-96c4-96a8c6383ee8",
   "metadata": {},
   "source": [
    "**（3）绘制数据分布图，你可以发现什么？**"
   ]
  },
  {
   "cell_type": "code",
   "execution_count": 9,
   "id": "8edecb16-f588-434d-9db5-f3b04b51771c",
   "metadata": {
    "tags": []
   },
   "outputs": [
    {
     "data": {
      "image/png": "[encoded data removed]",
      "text/plain": [
       "<Figure size 640x480 with 1 Axes>"
      ]
     },
     "metadata": {},
     "output_type": "display_data"
    }
   ],
   "source": [
    "boulder_precip_2003_2013.plot(x=\"DATE\",\n",
    "                              y=\"HPCP\",\n",
    "                              title=\"Daily Precipitation \")\n",
    "plt.show()"
   ]
  },
  {
   "cell_type": "markdown",
   "id": "b5914450-ff1d-4335-907e-10802ab97ff0",
   "metadata": {},
   "source": [
    "上边就是我们绘制的“2003 年至 2013 年科罗拉多州博尔德市每日降水量折线图”。因为N/A值 999.99 尚未删除，因此图形看起来像存在这些值的垂直线。  \n",
    "\n",
    "**（4）浏览原始数据，看一看问题出在哪里**  \n",
    "观察上面的折线图，想必同学们内心都或多或少会存在一些问题，接下来请同学们阅读PRECIP_HLY_documentation.pdf文件，并思考下面四个问题。  \n",
    "（1）数据是否没有数据值？  \n",
    "（2）如何在表中“识别”缺失数据？  \n",
    "（3）记录数据的频率如何（每秒、每分钟、每小时、天、周等）  \n",
    "（4）数据的单位是什么（注意 - 这可能是一个“技巧”问题:)）。但是看看你能在元数据中找到什么。  \n",
    "接下来，我们一起探索数据。"
   ]
  },
  {
   "cell_type": "code",
   "execution_count": 10,
   "id": "711c10ad-b828-4eab-b0fb-17f1f2f68bd4",
   "metadata": {
    "tags": []
   },
   "outputs": [
    {
     "data": {
      "text/plain": [
       "count    1840.000000\n",
       "mean       51.192587\n",
       "std       220.208147\n",
       "min         0.000000\n",
       "25%         0.100000\n",
       "50%         0.100000\n",
       "75%         0.100000\n",
       "max       999.990000\n",
       "Name: HPCP, dtype: float64"
      ]
     },
     "execution_count": 10,
     "metadata": {},
     "output_type": "execute_result"
    }
   ],
   "source": [
    "# 查看数据中的值范围，特别是HPCP列\n",
    "boulder_precip_2003_2013[\"HPCP\"].describe()"
   ]
  },
  {
   "cell_type": "code",
   "execution_count": 11,
   "id": "6e3cce70-14ba-4a0b-b3fd-dfa37d62ab33",
   "metadata": {
    "tags": []
   },
   "outputs": [
    {
     "data": {
      "text/plain": [
       "STATION              object\n",
       "STATION_NAME         object\n",
       "ELEVATION           float64\n",
       "LATITUDE            float64\n",
       "LONGITUDE           float64\n",
       "DATE                 object\n",
       "HPCP                float64\n",
       "Measurement Flag     object\n",
       "Quality Flag         object\n",
       "dtype: object"
      ]
     },
     "execution_count": 11,
     "metadata": {},
     "output_type": "execute_result"
    }
   ],
   "source": [
    "boulder_precip_2003_2013.dtypes"
   ]
  },
  {
   "cell_type": "markdown",
   "id": "bda4b008-16d2-4bbc-90bf-dfb3f8665fbf",
   "metadata": {},
   "source": [
    "我们可以在数据中观察到以下几个异常。  \n",
    "（1）数据似乎有一个非常大的数字：999.99。通常，值 999 表示需要从数据中删除的无数据值。  \n",
    "（2）图中的 x 轴日期值看起来“凌乱”。这是因为日期时间数据并没有作为数字日期时间正确读取。  \n",
    "我们可以使用以下参数解决所有这些问题：read_csv()  \n",
    "**（1）parse_dates=：包含应作为日期时间对象读入的日期信息的列。  \n",
    "（2）na_values=：文件中应替换为的值（不是数字）。  \n",
    "（3）index_col=1：可选 – 但这将使数据子集化变得更加容易**"
   ]
  },
  {
   "cell_type": "code",
   "execution_count": 29,
   "id": "c598c466-f70c-4ca8-8ee9-700d0654ee71",
   "metadata": {
    "tags": []
   },
   "outputs": [
    {
     "data": {
      "text/html": [
       "<div>\n",
       "<style scoped>\n",
       "    .dataframe tbody tr th:only-of-type {\n",
       "        vertical-align: middle;\n",
       "    }\n",
       "\n",
       "    .dataframe tbody tr th {\n",
       "        vertical-align: top;\n",
       "    }\n",
       "\n",
       "    .dataframe thead th {\n",
       "        text-align: right;\n",
       "    }\n",
       "</style>\n",
       "<table border=\"1\" class=\"dataframe\">\n",
       "  <thead>\n",
       "    <tr style=\"text-align: right;\">\n",
       "      <th></th>\n",
       "      <th>STATION</th>\n",
       "      <th>STATION_NAME</th>\n",
       "      <th>ELEVATION</th>\n",
       "      <th>LATITUDE</th>\n",
       "      <th>LONGITUDE</th>\n",
       "      <th>HPCP</th>\n",
       "      <th>Measurement Flag</th>\n",
       "      <th>Quality Flag</th>\n",
       "    </tr>\n",
       "    <tr>\n",
       "      <th>DATE</th>\n",
       "      <th></th>\n",
       "      <th></th>\n",
       "      <th></th>\n",
       "      <th></th>\n",
       "      <th></th>\n",
       "      <th></th>\n",
       "      <th></th>\n",
       "      <th></th>\n",
       "    </tr>\n",
       "  </thead>\n",
       "  <tbody>\n",
       "    <tr>\n",
       "      <th>2003-01-01 01:00:00</th>\n",
       "      <td>COOP:050843</td>\n",
       "      <td>BOULDER 2 CO US</td>\n",
       "      <td>1650.5</td>\n",
       "      <td>40.03389</td>\n",
       "      <td>-105.28111</td>\n",
       "      <td>0.0</td>\n",
       "      <td>g</td>\n",
       "      <td></td>\n",
       "    </tr>\n",
       "    <tr>\n",
       "      <th>2003-02-01 01:00:00</th>\n",
       "      <td>COOP:050843</td>\n",
       "      <td>BOULDER 2 CO US</td>\n",
       "      <td>1650.5</td>\n",
       "      <td>40.03389</td>\n",
       "      <td>-105.28111</td>\n",
       "      <td>0.0</td>\n",
       "      <td>g</td>\n",
       "      <td></td>\n",
       "    </tr>\n",
       "    <tr>\n",
       "      <th>2003-02-02 19:00:00</th>\n",
       "      <td>COOP:050843</td>\n",
       "      <td>BOULDER 2 CO US</td>\n",
       "      <td>1650.5</td>\n",
       "      <td>40.03389</td>\n",
       "      <td>-105.28111</td>\n",
       "      <td>0.2</td>\n",
       "      <td></td>\n",
       "      <td></td>\n",
       "    </tr>\n",
       "    <tr>\n",
       "      <th>2003-02-02 22:00:00</th>\n",
       "      <td>COOP:050843</td>\n",
       "      <td>BOULDER 2 CO US</td>\n",
       "      <td>1650.5</td>\n",
       "      <td>40.03389</td>\n",
       "      <td>-105.28111</td>\n",
       "      <td>0.1</td>\n",
       "      <td></td>\n",
       "      <td></td>\n",
       "    </tr>\n",
       "    <tr>\n",
       "      <th>2003-02-03 02:00:00</th>\n",
       "      <td>COOP:050843</td>\n",
       "      <td>BOULDER 2 CO US</td>\n",
       "      <td>1650.5</td>\n",
       "      <td>40.03389</td>\n",
       "      <td>-105.28111</td>\n",
       "      <td>0.1</td>\n",
       "      <td></td>\n",
       "      <td></td>\n",
       "    </tr>\n",
       "  </tbody>\n",
       "</table>\n",
       "</div>"
      ],
      "text/plain": [
       "                         STATION     STATION_NAME  ELEVATION  LATITUDE  \\\n",
       "DATE                                                                     \n",
       "2003-01-01 01:00:00  COOP:050843  BOULDER 2 CO US     1650.5  40.03389   \n",
       "2003-02-01 01:00:00  COOP:050843  BOULDER 2 CO US     1650.5  40.03389   \n",
       "2003-02-02 19:00:00  COOP:050843  BOULDER 2 CO US     1650.5  40.03389   \n",
       "2003-02-02 22:00:00  COOP:050843  BOULDER 2 CO US     1650.5  40.03389   \n",
       "2003-02-03 02:00:00  COOP:050843  BOULDER 2 CO US     1650.5  40.03389   \n",
       "\n",
       "                     LONGITUDE  HPCP Measurement Flag Quality Flag  \n",
       "DATE                                                                \n",
       "2003-01-01 01:00:00 -105.28111   0.0                g               \n",
       "2003-02-01 01:00:00 -105.28111   0.0                g               \n",
       "2003-02-02 19:00:00 -105.28111   0.2                                \n",
       "2003-02-02 22:00:00 -105.28111   0.1                                \n",
       "2003-02-03 02:00:00 -105.28111   0.1                                "
      ]
     },
     "execution_count": 29,
     "metadata": {},
     "output_type": "execute_result"
    }
   ],
   "source": [
    "# Import data using datetime and no data value\n",
    "boulder_precip_2003_2013 = pd.read_csv(\"../earth-analytics/data/805325-precip-daily-2003-2013.csv\",\n",
    "                                       # Make sure the dates import in datetime format\n",
    "                                       parse_dates=['DATE'],\n",
    "                                       # Set DATE as the index so you can subset data by time period\n",
    "                                       index_col=['DATE'],\n",
    "                                       # Mask no data values so they are not plotted / used in analysis\n",
    "                                       na_values=['999.99'])\n",
    "\n",
    "# View the data\n",
    "boulder_precip_2003_2013.head()"
   ]
  },
  {
   "cell_type": "markdown",
   "id": "33479a03-a137-40ed-b5e2-86124c08ed02",
   "metadata": {},
   "source": [
    "## 2 在Pandas中使用索引\n",
    "**(1)设置索引**  \n",
    "请注意，上面的 DATE 列标题看起来比其他列低，并且整个列都是粗体。这是因为我们将DATE列设为索引了。语法为：\n",
    "**index_col=['DATE']**  \n",
    "我们也可以使用以下方法将 DATE 设为索引：  \n",
    "**data-frame-name.index**"
   ]
  },
  {
   "cell_type": "code",
   "execution_count": 30,
   "id": "1caf3b99-f422-4e5d-b9e9-770711db1fcd",
   "metadata": {
    "tags": []
   },
   "outputs": [
    {
     "data": {
      "text/plain": [
       "DatetimeIndex(['2003-01-01 01:00:00', '2003-02-01 01:00:00',\n",
       "               '2003-02-02 19:00:00', '2003-02-02 22:00:00',\n",
       "               '2003-02-03 02:00:00', '2003-02-05 02:00:00',\n",
       "               '2003-02-05 08:00:00', '2003-02-06 00:00:00',\n",
       "               '2003-02-07 12:00:00', '2003-02-10 13:00:00',\n",
       "               ...\n",
       "               '2013-12-01 01:00:00', '2013-12-03 20:00:00',\n",
       "               '2013-12-04 03:00:00', '2013-12-04 06:00:00',\n",
       "               '2013-12-04 09:00:00', '2013-12-22 01:00:00',\n",
       "               '2013-12-23 00:00:00', '2013-12-23 02:00:00',\n",
       "               '2013-12-29 01:00:00', '2013-12-31 00:00:00'],\n",
       "              dtype='datetime64[ns]', name='DATE', length=1840, freq=None)"
      ]
     },
     "execution_count": 30,
     "metadata": {},
     "output_type": "execute_result"
    }
   ],
   "source": [
    "# View the index for your data frame\n",
    "boulder_precip_2003_2013.index"
   ]
  },
  {
   "cell_type": "markdown",
   "id": "c67e8aa2-388b-4782-8b10-72379f9bd0ed",
   "metadata": {},
   "source": [
    "**（2）重置索引**  \n",
    "如果您希望索引将其恢复为普通列，也可以重置索引"
   ]
  },
  {
   "cell_type": "code",
   "execution_count": 31,
   "id": "308d8b80-9a00-49bd-9223-d5d971c9d7dd",
   "metadata": {
    "tags": []
   },
   "outputs": [
    {
     "data": {
      "text/html": [
       "<div>\n",
       "<style scoped>\n",
       "    .dataframe tbody tr th:only-of-type {\n",
       "        vertical-align: middle;\n",
       "    }\n",
       "\n",
       "    .dataframe tbody tr th {\n",
       "        vertical-align: top;\n",
       "    }\n",
       "\n",
       "    .dataframe thead th {\n",
       "        text-align: right;\n",
       "    }\n",
       "</style>\n",
       "<table border=\"1\" class=\"dataframe\">\n",
       "  <thead>\n",
       "    <tr style=\"text-align: right;\">\n",
       "      <th></th>\n",
       "      <th>DATE</th>\n",
       "      <th>STATION</th>\n",
       "      <th>STATION_NAME</th>\n",
       "      <th>ELEVATION</th>\n",
       "      <th>LATITUDE</th>\n",
       "      <th>LONGITUDE</th>\n",
       "      <th>HPCP</th>\n",
       "      <th>Measurement Flag</th>\n",
       "      <th>Quality Flag</th>\n",
       "    </tr>\n",
       "  </thead>\n",
       "  <tbody>\n",
       "    <tr>\n",
       "      <th>0</th>\n",
       "      <td>2003-01-01 01:00:00</td>\n",
       "      <td>COOP:050843</td>\n",
       "      <td>BOULDER 2 CO US</td>\n",
       "      <td>1650.5</td>\n",
       "      <td>40.03389</td>\n",
       "      <td>-105.28111</td>\n",
       "      <td>0.0</td>\n",
       "      <td>g</td>\n",
       "      <td></td>\n",
       "    </tr>\n",
       "    <tr>\n",
       "      <th>1</th>\n",
       "      <td>2003-02-01 01:00:00</td>\n",
       "      <td>COOP:050843</td>\n",
       "      <td>BOULDER 2 CO US</td>\n",
       "      <td>1650.5</td>\n",
       "      <td>40.03389</td>\n",
       "      <td>-105.28111</td>\n",
       "      <td>0.0</td>\n",
       "      <td>g</td>\n",
       "      <td></td>\n",
       "    </tr>\n",
       "    <tr>\n",
       "      <th>2</th>\n",
       "      <td>2003-02-02 19:00:00</td>\n",
       "      <td>COOP:050843</td>\n",
       "      <td>BOULDER 2 CO US</td>\n",
       "      <td>1650.5</td>\n",
       "      <td>40.03389</td>\n",
       "      <td>-105.28111</td>\n",
       "      <td>0.2</td>\n",
       "      <td></td>\n",
       "      <td></td>\n",
       "    </tr>\n",
       "    <tr>\n",
       "      <th>3</th>\n",
       "      <td>2003-02-02 22:00:00</td>\n",
       "      <td>COOP:050843</td>\n",
       "      <td>BOULDER 2 CO US</td>\n",
       "      <td>1650.5</td>\n",
       "      <td>40.03389</td>\n",
       "      <td>-105.28111</td>\n",
       "      <td>0.1</td>\n",
       "      <td></td>\n",
       "      <td></td>\n",
       "    </tr>\n",
       "    <tr>\n",
       "      <th>4</th>\n",
       "      <td>2003-02-03 02:00:00</td>\n",
       "      <td>COOP:050843</td>\n",
       "      <td>BOULDER 2 CO US</td>\n",
       "      <td>1650.5</td>\n",
       "      <td>40.03389</td>\n",
       "      <td>-105.28111</td>\n",
       "      <td>0.1</td>\n",
       "      <td></td>\n",
       "      <td></td>\n",
       "    </tr>\n",
       "    <tr>\n",
       "      <th>...</th>\n",
       "      <td>...</td>\n",
       "      <td>...</td>\n",
       "      <td>...</td>\n",
       "      <td>...</td>\n",
       "      <td>...</td>\n",
       "      <td>...</td>\n",
       "      <td>...</td>\n",
       "      <td>...</td>\n",
       "      <td>...</td>\n",
       "    </tr>\n",
       "    <tr>\n",
       "      <th>1835</th>\n",
       "      <td>2013-12-22 01:00:00</td>\n",
       "      <td>COOP:050843</td>\n",
       "      <td>BOULDER 2 CO US</td>\n",
       "      <td>1650.5</td>\n",
       "      <td>40.03380</td>\n",
       "      <td>-105.28110</td>\n",
       "      <td>NaN</td>\n",
       "      <td>[</td>\n",
       "      <td></td>\n",
       "    </tr>\n",
       "    <tr>\n",
       "      <th>1836</th>\n",
       "      <td>2013-12-23 00:00:00</td>\n",
       "      <td>COOP:050843</td>\n",
       "      <td>BOULDER 2 CO US</td>\n",
       "      <td>1650.5</td>\n",
       "      <td>40.03380</td>\n",
       "      <td>-105.28110</td>\n",
       "      <td>NaN</td>\n",
       "      <td>]</td>\n",
       "      <td></td>\n",
       "    </tr>\n",
       "    <tr>\n",
       "      <th>1837</th>\n",
       "      <td>2013-12-23 02:00:00</td>\n",
       "      <td>COOP:050843</td>\n",
       "      <td>BOULDER 2 CO US</td>\n",
       "      <td>1650.5</td>\n",
       "      <td>40.03380</td>\n",
       "      <td>-105.28110</td>\n",
       "      <td>0.1</td>\n",
       "      <td></td>\n",
       "      <td></td>\n",
       "    </tr>\n",
       "    <tr>\n",
       "      <th>1838</th>\n",
       "      <td>2013-12-29 01:00:00</td>\n",
       "      <td>COOP:050843</td>\n",
       "      <td>BOULDER 2 CO US</td>\n",
       "      <td>1650.5</td>\n",
       "      <td>40.03380</td>\n",
       "      <td>-105.28110</td>\n",
       "      <td>NaN</td>\n",
       "      <td>[</td>\n",
       "      <td></td>\n",
       "    </tr>\n",
       "    <tr>\n",
       "      <th>1839</th>\n",
       "      <td>2013-12-31 00:00:00</td>\n",
       "      <td>COOP:050843</td>\n",
       "      <td>BOULDER 2 CO US</td>\n",
       "      <td>1650.5</td>\n",
       "      <td>40.03380</td>\n",
       "      <td>-105.28110</td>\n",
       "      <td>NaN</td>\n",
       "      <td>]</td>\n",
       "      <td></td>\n",
       "    </tr>\n",
       "  </tbody>\n",
       "</table>\n",
       "<p>1840 rows × 9 columns</p>\n",
       "</div>"
      ],
      "text/plain": [
       "                    DATE      STATION     STATION_NAME  ELEVATION  LATITUDE  \\\n",
       "0    2003-01-01 01:00:00  COOP:050843  BOULDER 2 CO US     1650.5  40.03389   \n",
       "1    2003-02-01 01:00:00  COOP:050843  BOULDER 2 CO US     1650.5  40.03389   \n",
       "2    2003-02-02 19:00:00  COOP:050843  BOULDER 2 CO US     1650.5  40.03389   \n",
       "3    2003-02-02 22:00:00  COOP:050843  BOULDER 2 CO US     1650.5  40.03389   \n",
       "4    2003-02-03 02:00:00  COOP:050843  BOULDER 2 CO US     1650.5  40.03389   \n",
       "...                  ...          ...              ...        ...       ...   \n",
       "1835 2013-12-22 01:00:00  COOP:050843  BOULDER 2 CO US     1650.5  40.03380   \n",
       "1836 2013-12-23 00:00:00  COOP:050843  BOULDER 2 CO US     1650.5  40.03380   \n",
       "1837 2013-12-23 02:00:00  COOP:050843  BOULDER 2 CO US     1650.5  40.03380   \n",
       "1838 2013-12-29 01:00:00  COOP:050843  BOULDER 2 CO US     1650.5  40.03380   \n",
       "1839 2013-12-31 00:00:00  COOP:050843  BOULDER 2 CO US     1650.5  40.03380   \n",
       "\n",
       "      LONGITUDE  HPCP Measurement Flag Quality Flag  \n",
       "0    -105.28111   0.0                g               \n",
       "1    -105.28111   0.0                g               \n",
       "2    -105.28111   0.2                                \n",
       "3    -105.28111   0.1                                \n",
       "4    -105.28111   0.1                                \n",
       "...         ...   ...              ...          ...  \n",
       "1835 -105.28110   NaN                [               \n",
       "1836 -105.28110   NaN                ]               \n",
       "1837 -105.28110   0.1                                \n",
       "1838 -105.28110   NaN                [               \n",
       "1839 -105.28110   NaN                ]               \n",
       "\n",
       "[1840 rows x 9 columns]"
      ]
     },
     "execution_count": 31,
     "metadata": {},
     "output_type": "execute_result"
    }
   ],
   "source": [
    "boulder_precip_2003_2013.reset_index()"
   ]
  },
  {
   "cell_type": "markdown",
   "id": "6cb237d4-cac6-4ff5-8eb0-6f924f9119aa",
   "metadata": {},
   "source": [
    "## 3 按时间划分的时间序列数据子集\n",
    "整理好数据并设置日期时间索引后，可以快速开始按时间段绘制和汇总数据。下面是 2005 年的数据。"
   ]
  },
  {
   "cell_type": "code",
   "execution_count": 32,
   "id": "d9dab324-4181-495e-9f56-41597d300e37",
   "metadata": {
    "tags": []
   },
   "outputs": [
    {
     "data": {
      "text/html": [
       "<div>\n",
       "<style scoped>\n",
       "    .dataframe tbody tr th:only-of-type {\n",
       "        vertical-align: middle;\n",
       "    }\n",
       "\n",
       "    .dataframe tbody tr th {\n",
       "        vertical-align: top;\n",
       "    }\n",
       "\n",
       "    .dataframe thead th {\n",
       "        text-align: right;\n",
       "    }\n",
       "</style>\n",
       "<table border=\"1\" class=\"dataframe\">\n",
       "  <thead>\n",
       "    <tr style=\"text-align: right;\">\n",
       "      <th></th>\n",
       "      <th>STATION</th>\n",
       "      <th>STATION_NAME</th>\n",
       "      <th>ELEVATION</th>\n",
       "      <th>LATITUDE</th>\n",
       "      <th>LONGITUDE</th>\n",
       "      <th>HPCP</th>\n",
       "      <th>Measurement Flag</th>\n",
       "      <th>Quality Flag</th>\n",
       "    </tr>\n",
       "    <tr>\n",
       "      <th>DATE</th>\n",
       "      <th></th>\n",
       "      <th></th>\n",
       "      <th></th>\n",
       "      <th></th>\n",
       "      <th></th>\n",
       "      <th></th>\n",
       "      <th></th>\n",
       "      <th></th>\n",
       "    </tr>\n",
       "  </thead>\n",
       "  <tbody>\n",
       "    <tr>\n",
       "      <th>2005-01-01 01:00:00</th>\n",
       "      <td>COOP:050843</td>\n",
       "      <td>BOULDER 2 CO US</td>\n",
       "      <td>1650.5</td>\n",
       "      <td>40.03389</td>\n",
       "      <td>-105.28111</td>\n",
       "      <td>0.0</td>\n",
       "      <td>g</td>\n",
       "      <td></td>\n",
       "    </tr>\n",
       "    <tr>\n",
       "      <th>2005-01-02 06:00:00</th>\n",
       "      <td>COOP:050843</td>\n",
       "      <td>BOULDER 2 CO US</td>\n",
       "      <td>1650.5</td>\n",
       "      <td>40.03389</td>\n",
       "      <td>-105.28111</td>\n",
       "      <td>NaN</td>\n",
       "      <td>{</td>\n",
       "      <td></td>\n",
       "    </tr>\n",
       "    <tr>\n",
       "      <th>2005-01-02 08:00:00</th>\n",
       "      <td>COOP:050843</td>\n",
       "      <td>BOULDER 2 CO US</td>\n",
       "      <td>1650.5</td>\n",
       "      <td>40.03389</td>\n",
       "      <td>-105.28111</td>\n",
       "      <td>NaN</td>\n",
       "      <td>}</td>\n",
       "      <td></td>\n",
       "    </tr>\n",
       "    <tr>\n",
       "      <th>2005-01-05 08:00:00</th>\n",
       "      <td>COOP:050843</td>\n",
       "      <td>BOULDER 2 CO US</td>\n",
       "      <td>1650.5</td>\n",
       "      <td>40.03389</td>\n",
       "      <td>-105.28111</td>\n",
       "      <td>0.1</td>\n",
       "      <td></td>\n",
       "      <td></td>\n",
       "    </tr>\n",
       "    <tr>\n",
       "      <th>2005-01-12 04:00:00</th>\n",
       "      <td>COOP:050843</td>\n",
       "      <td>BOULDER 2 CO US</td>\n",
       "      <td>1650.5</td>\n",
       "      <td>40.03389</td>\n",
       "      <td>-105.28111</td>\n",
       "      <td>0.1</td>\n",
       "      <td></td>\n",
       "      <td></td>\n",
       "    </tr>\n",
       "  </tbody>\n",
       "</table>\n",
       "</div>"
      ],
      "text/plain": [
       "                         STATION     STATION_NAME  ELEVATION  LATITUDE  \\\n",
       "DATE                                                                     \n",
       "2005-01-01 01:00:00  COOP:050843  BOULDER 2 CO US     1650.5  40.03389   \n",
       "2005-01-02 06:00:00  COOP:050843  BOULDER 2 CO US     1650.5  40.03389   \n",
       "2005-01-02 08:00:00  COOP:050843  BOULDER 2 CO US     1650.5  40.03389   \n",
       "2005-01-05 08:00:00  COOP:050843  BOULDER 2 CO US     1650.5  40.03389   \n",
       "2005-01-12 04:00:00  COOP:050843  BOULDER 2 CO US     1650.5  40.03389   \n",
       "\n",
       "                     LONGITUDE  HPCP Measurement Flag Quality Flag  \n",
       "DATE                                                                \n",
       "2005-01-01 01:00:00 -105.28111   0.0                g               \n",
       "2005-01-02 06:00:00 -105.28111   NaN                {               \n",
       "2005-01-02 08:00:00 -105.28111   NaN                }               \n",
       "2005-01-05 08:00:00 -105.28111   0.1                                \n",
       "2005-01-12 04:00:00 -105.28111   0.1                                "
      ]
     },
     "execution_count": 32,
     "metadata": {},
     "output_type": "execute_result"
    }
   ],
   "source": [
    "# Subset data from 2005\n",
    "precip_2005 = boulder_precip_2003_2013['2005']\n",
    "precip_2005.head()"
   ]
  },
  {
   "cell_type": "code",
   "execution_count": 33,
   "id": "607fc3ca-2eff-4e60-b5d3-f2afc6f9cc24",
   "metadata": {
    "tags": []
   },
   "outputs": [],
   "source": [
    "# Remove missing data values\n",
    "precip_2005_clean = precip_2005.dropna()"
   ]
  },
  {
   "cell_type": "code",
   "execution_count": 34,
   "id": "5b536de3-bab0-414b-8d6c-030a40712bb7",
   "metadata": {
    "tags": []
   },
   "outputs": [
    {
     "data": {
      "image/png": "[encoded data removed]",
      "text/plain": [
       "<Figure size 640x480 with 1 Axes>"
      ]
     },
     "metadata": {},
     "output_type": "display_data"
    }
   ],
   "source": [
    "# Plot the data using pandas\n",
    "\n",
    "precip_2005_clean.reset_index().plot(x=\"DATE\",\n",
    "                                     y=\"HPCP\",\n",
    "                                     title=\"Hourly Precipitation\",\n",
    "                                     kind=\"scatter\")\n",
    "plt.show()"
   ]
  },
  {
   "cell_type": "markdown",
   "id": "1d9dc318-af65-44a6-9ab1-553b05a30444",
   "metadata": {},
   "source": [
    "虽然我们可以使用Pandas dataframe绘图，但直接使用 matplotlib可以让我们更好地控制绘图。"
   ]
  },
  {
   "cell_type": "code",
   "execution_count": 35,
   "id": "7f0be3f8-be6b-4d7f-a4b2-02affc21f5d1",
   "metadata": {
    "tags": []
   },
   "outputs": [
    {
     "data": {
      "image/png": "[encoded data removed]",
      "text/plain": [
       "<Figure size 640x480 with 1 Axes>"
      ]
     },
     "metadata": {},
     "output_type": "display_data"
    }
   ],
   "source": [
    "# Plot the data using native matplotlib\n",
    "f, ax = plt.subplots()\n",
    "ax.scatter(x=precip_2005_clean.index.values,\n",
    "           y=precip_2005_clean[\"HPCP\"])\n",
    "plt.show()"
   ]
  },
  {
   "cell_type": "markdown",
   "id": "d8560f35-9fa2-4ec1-9cdd-f10be8185d4b",
   "metadata": {},
   "source": [
    "## 4 重采样时序数据  \n",
    "重采样时间序列数据是指汇总不同时间段数据。例如，上面我们处理的数据是以小时为单位的，但是我们希望绘制按天汇总的数据。那么我们可以使用 **resample()** 方法对 Pandas 中的时间序列数据进行重采样。在该方法中，我们可以自定义要重新采样的时间频率。  \n",
    "当我们重新采样数据时，我们还需要告诉 Python 希望如何汇总哪个时间段的数据。  \n",
    "例如，汇总或添加每天所有的值？**precip_2005_clean.resample(\"D\").sum()**  \n",
    "或者你想要一个最大值：**precip_2005_clean.resample(\"D\").max()**  \n",
    "下面对上面创建的 2005 年数据子集进行重采样，然后对其进行绘制。"
   ]
  },
  {
   "cell_type": "code",
   "execution_count": 36,
   "id": "deecd0f7-5292-45cc-9c6c-f3d3a11a73ce",
   "metadata": {
    "tags": []
   },
   "outputs": [
    {
     "data": {
      "image/png": "[encoded data removed]",
      "text/plain": [
       "<Figure size 640x480 with 1 Axes>"
      ]
     },
     "metadata": {},
     "output_type": "display_data"
    }
   ],
   "source": [
    "precip_2005_daily = precip_2005_clean.resample(\"D\").sum()\n",
    "# Plot the data using native matplotlib\n",
    "f, ax = plt.subplots()\n",
    "ax.scatter(x=precip_2005_daily.index.values,\n",
    "           y=precip_2005_daily[\"HPCP\"])\n",
    "plt.show()"
   ]
  }
 ],
 "metadata": {
  "kernelspec": {
   "display_name": "Python 3 (ipykernel)",
   "language": "python",
   "name": "python3"
  },
  "language_info": {
   "codemirror_mode": {
    "name": "ipython",
    "version": 3
   },
   "file_extension": ".py",
   "mimetype": "text/x-python",
   "name": "python",
   "nbconvert_exporter": "python",
   "pygments_lexer": "ipython3",
   "version": "3.9.12"
  }
 },
 "nbformat": 4,
 "nbformat_minor": 5
}
