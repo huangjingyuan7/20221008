{
 "cells": [
  {
   "cell_type": "markdown",
   "id": "6e0a3d7c-d6cd-4d04-ad01-b6f0a0cf01f4",
   "metadata": {
    "tags": []
   },
   "source": [
    "# Numpy 简介\n",
    "\n",
    "通过前面的学习，我们已经知道了numpy 是一个功能强大的 python 库，主要用于对多维数组执行计算。  \n",
    "本次上机学习目标：  \n",
    "（1）学会创建Numpy 数组（Numpy Array）  \n",
    "（2）学习使用Numpy数组执行运算的操作"
   ]
  },
  {
   "cell_type": "markdown",
   "id": "7bd3fe71-1560-46bf-848b-0b1d4e2edb96",
   "metadata": {},
   "source": [
    "## 1 创建 Numpy 数组\n",
    "\n",
    "创建一个 ndarray 只需调用 numpy 的 array 函数即可：\n",
    "\n",
    "```\n",
    "numpy.array(object, dtype = None, copy = True, order = None, subok = False, ndmin = 0)\n",
    "```\n",
    "object：数组或嵌套的数列                                                      \n",
    "dtype：数组元素的数据类型，可选                                                 \n",
    "copy：对象是否需要复制，可选                                                     \n",
    "order：创建数组的样式，C为行方向，F为列方向，A为任意方向（默认）                 \n",
    "subok：默认返回一个与基类类型一致的数组                               \n",
    "ndmin：指定生成数组的最小维度                                                   "
   ]
  },
  {
   "cell_type": "code",
   "execution_count": 1,
   "id": "bc18f77d-324b-4cb7-b2e5-3d340fcb12d8",
   "metadata": {
    "tags": []
   },
   "outputs": [],
   "source": [
    "# 导入numpy包，并使用缩写\n",
    "import numpy as np"
   ]
  },
  {
   "cell_type": "code",
   "execution_count": 2,
   "id": "6f866a47-c3be-40ce-92cd-775f955a2a5e",
   "metadata": {
    "tags": []
   },
   "outputs": [
    {
     "data": {
      "text/plain": [
       "array([1, 2, 3])"
      ]
     },
     "execution_count": 2,
     "metadata": {},
     "output_type": "execute_result"
    }
   ],
   "source": [
    "# 示例1：创建一维数组\n",
    "a = np.array([1, 2, 3])\n",
    "a"
   ]
  },
  {
   "cell_type": "code",
   "execution_count": 3,
   "id": "775e9e47-6d88-4d0b-a272-aa2833b34198",
   "metadata": {
    "tags": []
   },
   "outputs": [
    {
     "data": {
      "text/plain": [
       "array([[1, 2],\n",
       "       [3, 4]])"
      ]
     },
     "execution_count": 3,
     "metadata": {},
     "output_type": "execute_result"
    }
   ],
   "source": [
    "# 示例2：创建多维度数组\n",
    "b = np.array([[1, 2], [3, 4]])\n",
    "b"
   ]
  },
  {
   "cell_type": "markdown",
   "id": "b949a07f-1ea4-4b7a-b019-da8b3d6cc9cb",
   "metadata": {},
   "source": [
    "## 2 使用Numpy 数组\n",
    "\n",
    "接下来是一些常见的使用Numpy数组执行运算的操作"
   ]
  },
  {
   "cell_type": "markdown",
   "id": "9901c60a-c9c5-4cef-a74f-eef15434c387",
   "metadata": {},
   "source": [
    "### 2.1 numpy 数组索引与切片"
   ]
  },
  {
   "cell_type": "code",
   "execution_count": 9,
   "id": "2c1b937e-d0d6-439f-a79c-766d917adf18",
   "metadata": {},
   "outputs": [
    {
     "name": "stdout",
     "output_type": "stream",
     "text": [
      "a= [1 2 3 4 5]\n",
      "a[1]= 2\n",
      "a[2:4]= [3 4]\n",
      "a[-2:]= [4 5]\n",
      "a[::2]= [1 3 5]\n",
      "a[[1,3,4]]= [2 4 5]\n",
      "修改a[2:4]后：\n",
      "a= [1 2 0 0 5]\n"
     ]
    }
   ],
   "source": [
    "# 注意这个a和上面的a重名，那么哪一个是在时间上靠后执行的，a实际上就是那一个。\n",
    "a = np.arange(1, 6)\n",
    "print(\"a=\", a)\n",
    "# 索引\n",
    "print(\"a[1]=\", a[1])\n",
    "# 切片\n",
    "print(\"a[2:4]=\", a[2:4])\n",
    "print(\"a[-2:]=\", a[-2:])\n",
    "print(\"a[::2]=\", a[::2])\n",
    "print(\"a[[1,3,4]]=\", a[[1, 3, 4]])\n",
    "print(\"修改a[2:4]后：\")\n",
    "a[2:4] = 0\n",
    "print(\"a=\", a)"
   ]
  },
  {
   "cell_type": "markdown",
   "id": "33a78d6a-8364-42ae-bfc2-f600010b3a02",
   "metadata": {},
   "source": [
    "### 2.2 向量运算                                                      \n",
    "算术运算是 numpy 速度最引入注目的地方之一。numpy 的向量运算符已达到 C++ 级别，避免了 python 的慢循环。\n",
    "numpy 允许像普通数字一样操作整个数组（加减乘除、整除、幂）： "
   ]
  },
  {
   "cell_type": "code",
   "execution_count": 4,
   "id": "d68d4146-1e9f-4a93-b68f-2784f1de0d7f",
   "metadata": {
    "tags": []
   },
   "outputs": [],
   "source": [
    "arr1 = np.array([1, 2])\n",
    "arr2 = np.array([4, 8])"
   ]
  },
  {
   "cell_type": "code",
   "execution_count": 5,
   "id": "7c2a09ae-05f7-4e02-b84b-b40f26b0a129",
   "metadata": {
    "tags": []
   },
   "outputs": [
    {
     "data": {
      "text/plain": [
       "array([ 5, 10])"
      ]
     },
     "execution_count": 5,
     "metadata": {},
     "output_type": "execute_result"
    }
   ],
   "source": [
    "arr1 + arr2"
   ]
  },
  {
   "cell_type": "code",
   "execution_count": 6,
   "id": "ef0bd0e8-ec41-447f-b550-6df0d4828526",
   "metadata": {
    "tags": []
   },
   "outputs": [
    {
     "data": {
      "text/plain": [
       "array([-3, -6])"
      ]
     },
     "execution_count": 6,
     "metadata": {},
     "output_type": "execute_result"
    }
   ],
   "source": [
    "arr1 - arr2"
   ]
  },
  {
   "cell_type": "code",
   "execution_count": 7,
   "id": "1f17c158-c63a-4944-8244-c54f194f1ba7",
   "metadata": {
    "tags": []
   },
   "outputs": [],
   "source": [
    "arr3 = np.array([2, 5])"
   ]
  },
  {
   "cell_type": "code",
   "execution_count": 8,
   "id": "599ed928-7609-4e79-995e-0742819ff30e",
   "metadata": {
    "tags": []
   },
   "outputs": [
    {
     "data": {
      "text/plain": [
       "array([ 8, 40])"
      ]
     },
     "execution_count": 8,
     "metadata": {},
     "output_type": "execute_result"
    }
   ],
   "source": [
    "arr2 * arr3"
   ]
  },
  {
   "cell_type": "code",
   "execution_count": 9,
   "id": "2392db2d-aa72-48a1-84ac-1a08ed6dfb84",
   "metadata": {
    "tags": []
   },
   "outputs": [
    {
     "data": {
      "text/plain": [
       "array([2. , 1.6])"
      ]
     },
     "execution_count": 9,
     "metadata": {},
     "output_type": "execute_result"
    }
   ],
   "source": [
    "arr2 / arr3"
   ]
  },
  {
   "cell_type": "code",
   "execution_count": 10,
   "id": "e42e1e42-3cb3-45a8-ab80-e945693dbfbf",
   "metadata": {
    "tags": []
   },
   "outputs": [
    {
     "data": {
      "text/plain": [
       "array([2, 1])"
      ]
     },
     "execution_count": 10,
     "metadata": {},
     "output_type": "execute_result"
    }
   ],
   "source": [
    "arr2 // arr3"
   ]
  },
  {
   "cell_type": "code",
   "execution_count": 11,
   "id": "0df2a923-4f7f-4db8-9de1-233cb3795d40",
   "metadata": {
    "tags": []
   },
   "outputs": [
    {
     "data": {
      "text/plain": [
       "array([ 9, 64])"
      ]
     },
     "execution_count": 11,
     "metadata": {},
     "output_type": "execute_result"
    }
   ],
   "source": [
    "np.array([3, 4]) ** np.array([2, 3])"
   ]
  },
  {
   "cell_type": "markdown",
   "id": "53f64e0c-736d-4444-bb5a-cef8f410666f",
   "metadata": {},
   "source": [
    "### 2.3 数组广播\n",
    "不同形状和维度的数组在某些情况下, numpy 可以执行加减乘除的运算，这种机制就叫做广播机制。"
   ]
  },
  {
   "cell_type": "code",
   "execution_count": 20,
   "id": "8e9c11a2-c0d5-49ee-af28-59d524631308",
   "metadata": {},
   "outputs": [
    {
     "data": {
      "text/plain": [
       "array([1, 2, 3])"
      ]
     },
     "execution_count": 20,
     "metadata": {},
     "output_type": "execute_result"
    }
   ],
   "source": [
    "import numpy as np\n",
    "\n",
    "a = np.arange(3)\n",
    "b = 1\n",
    "a + b"
   ]
  },
  {
   "cell_type": "markdown",
   "id": "8e6ec946-2c38-4499-8f4a-5695ee45e358",
   "metadata": {},
   "source": [
    "### 2.4 常用统计函数\n",
    "\n",
    "当 axis=0 时，表示沿着纵轴（行）计算。当 axis=1 时，表示沿着横轴（列）计算。默认时计算一个总值。"
   ]
  },
  {
   "cell_type": "code",
   "execution_count": 21,
   "id": "28ff7bca-34c6-4d1b-8cb2-6d78a2d4ea09",
   "metadata": {},
   "outputs": [
    {
     "name": "stdout",
     "output_type": "stream",
     "text": [
      "[[0 1 2]\n",
      " [3 4 5]\n",
      " [6 7 8]]\n",
      "arr的和为: [ 3 12 21]\n",
      "arr的和为: [ 9 12 15]\n",
      "arr的平均值为： [1. 4. 7.]\n",
      "arr的标准差为： [0.81649658 0.81649658 0.81649658]\n",
      "arr的方差为： [0.66666667 0.66666667 0.66666667]\n",
      "arr的最小值为： [0 3 6]\n",
      "arr的最大值为： [2 5 8]\n",
      "arr的最大值下标为： [2 2 2]\n",
      "arr的最小值下标为： [0 0 0]\n",
      "arr的累计和为： [[ 0  1  3]\n",
      " [ 3  7 12]\n",
      " [ 6 13 21]]\n",
      "arr的累计积为： [[  0   0   0]\n",
      " [  3  12  60]\n",
      " [  6  42 336]]\n"
     ]
    }
   ],
   "source": [
    "import numpy as np\n",
    "\n",
    "arr = np.arange(9).reshape(3, 3)\n",
    "print(arr)\n",
    "\n",
    "### sum,mean,std,var,min,max,argmax,argmin,cumsum,cumprod\n",
    "print(\"arr的和为:\", arr.sum(axis=1))  ##按照列的方向，横着求和\n",
    "print(\"arr的和为:\", arr.sum(axis=0))  ##按照行的方向，竖着求和\n",
    "print(\"arr的平均值为：\", np.mean(arr, axis=1))\n",
    "print(\"arr的标准差为：\", np.std(arr, axis=1))\n",
    "print(\"arr的方差为：\", np.var(arr, axis=1))\n",
    "print(\"arr的最小值为：\", np.min(arr, axis=1))\n",
    "print(\"arr的最大值为：\", np.max(arr, axis=1))\n",
    "print(\"arr的最大值下标为：\", np.argmax(arr, axis=1))\n",
    "print(\"arr的最小值下标为：\", np.argmin(arr, axis=1))\n",
    "print(\"arr的累计和为：\", np.cumsum(arr, axis=1))\n",
    "print(\"arr的累计积为：\", np.cumprod(arr, axis=1))"
   ]
  },
  {
   "cell_type": "markdown",
   "id": "e82a4220-7e94-4c75-9cb9-75fc7c16b6d7",
   "metadata": {},
   "source": [
    "还有很多内容，但是这里篇幅所限，我们就介绍一些最基本的概念，更多内容大家可以自己在实际使用过程中从 [官方文档](https://numpy.org/doc/stable/) 慢慢学习，我们后面有一个完整例子，会介绍其中用到的numpy运算操作。"
   ]
  }
 ],
 "metadata": {
  "kernelspec": {
   "display_name": "Python 3 (ipykernel)",
   "language": "python",
   "name": "python3"
  },
  "language_info": {
   "codemirror_mode": {
    "name": "ipython",
    "version": 3
   },
   "file_extension": ".py",
   "mimetype": "text/x-python",
   "name": "python",
   "nbconvert_exporter": "python",
   "pygments_lexer": "ipython3",
   "version": "3.9.12"
  }
 },
 "nbformat": 4,
 "nbformat_minor": 5
}
