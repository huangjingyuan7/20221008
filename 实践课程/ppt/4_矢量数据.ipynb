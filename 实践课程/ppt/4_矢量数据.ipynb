{
 "cells": [
  {
   "cell_type": "markdown",
   "id": "8fa2d608-2a03-432f-bc76-3159b0ec0418",
   "metadata": {
    "tags": []
   },
   "source": [
    "# 地理空间数据--矢量\n",
    "\n",
    "我们常见的矢量数据类型有Shapefile格式、GeoJSON格式、GML格式、KML格式等。  \n",
    "现在我们演示下在Python中对shapefile文件进行读写操作。  \n",
    "学习目标有以下三点：  \n",
    "（1）使用 geopandas 打开shp文件。  \n",
    "（2）在 Python 中查看矢量数据的 CRS 和其他元数据  \n",
    "（3）在 Python 中绘制shp文件。"
   ]
  },
  {
   "cell_type": "markdown",
   "id": "7c253c16-f751-427b-8568-8eee7f2926bc",
   "metadata": {
    "tags": []
   },
   "source": [
    "##  1 使用 geopandas 中打开shp文件\n",
    "**（1）导入包和要用的数据**"
   ]
  },
  {
   "cell_type": "code",
   "execution_count": 9,
   "id": "c6311448-f4de-4597-a2ac-19eba97b125c",
   "metadata": {
    "tags": []
   },
   "outputs": [],
   "source": [
    "# Import packages\n",
    "import os\n",
    "import matplotlib.pyplot as plt\n",
    "import geopandas as gpd\n",
    "import earthpy as et"
   ]
  },
  {
   "cell_type": "code",
   "execution_count": 10,
   "id": "460c65bb-4cea-4bd6-afb1-302eb34c43ab",
   "metadata": {
    "tags": []
   },
   "outputs": [],
   "source": [
    "# Import shapefile using geopandas\n",
    "sjer_plot_locations = gpd.read_file(\"../earth-analytics/SJER_crop2/SJER_plot_centroids.shp\")"
   ]
  },
  {
   "cell_type": "markdown",
   "id": "dba126e5-28d3-434c-aa6d-364713aab8ce",
   "metadata": {},
   "source": [
    "**(2)我们可以使用head()函数仅显示属性表的前几行。函数中的数字表示函数将返回的总行数。例如**"
   ]
  },
  {
   "cell_type": "code",
   "execution_count": 11,
   "id": "244d2681-e872-4f6c-8082-64fd7fd8fbae",
   "metadata": {
    "tags": []
   },
   "outputs": [
    {
     "data": {
      "text/html": [
       "<div>\n",
       "<style scoped>\n",
       "    .dataframe tbody tr th:only-of-type {\n",
       "        vertical-align: middle;\n",
       "    }\n",
       "\n",
       "    .dataframe tbody tr th {\n",
       "        vertical-align: top;\n",
       "    }\n",
       "\n",
       "    .dataframe thead th {\n",
       "        text-align: right;\n",
       "    }\n",
       "</style>\n",
       "<table border=\"1\" class=\"dataframe\">\n",
       "  <thead>\n",
       "    <tr style=\"text-align: right;\">\n",
       "      <th></th>\n",
       "      <th>Plot_ID</th>\n",
       "      <th>Point</th>\n",
       "      <th>northing</th>\n",
       "      <th>easting</th>\n",
       "      <th>plot_type</th>\n",
       "      <th>geometry</th>\n",
       "    </tr>\n",
       "  </thead>\n",
       "  <tbody>\n",
       "    <tr>\n",
       "      <th>0</th>\n",
       "      <td>SJER1068</td>\n",
       "      <td>center</td>\n",
       "      <td>4111567.818</td>\n",
       "      <td>255852.376</td>\n",
       "      <td>trees</td>\n",
       "      <td>POINT (255852.376 4111567.818)</td>\n",
       "    </tr>\n",
       "    <tr>\n",
       "      <th>1</th>\n",
       "      <td>SJER112</td>\n",
       "      <td>center</td>\n",
       "      <td>4111298.971</td>\n",
       "      <td>257406.967</td>\n",
       "      <td>trees</td>\n",
       "      <td>POINT (257406.967 4111298.971)</td>\n",
       "    </tr>\n",
       "    <tr>\n",
       "      <th>2</th>\n",
       "      <td>SJER116</td>\n",
       "      <td>center</td>\n",
       "      <td>4110819.876</td>\n",
       "      <td>256838.760</td>\n",
       "      <td>grass</td>\n",
       "      <td>POINT (256838.760 4110819.876)</td>\n",
       "    </tr>\n",
       "    <tr>\n",
       "      <th>3</th>\n",
       "      <td>SJER117</td>\n",
       "      <td>center</td>\n",
       "      <td>4108752.026</td>\n",
       "      <td>256176.947</td>\n",
       "      <td>trees</td>\n",
       "      <td>POINT (256176.947 4108752.026)</td>\n",
       "    </tr>\n",
       "    <tr>\n",
       "      <th>4</th>\n",
       "      <td>SJER120</td>\n",
       "      <td>center</td>\n",
       "      <td>4110476.079</td>\n",
       "      <td>255968.372</td>\n",
       "      <td>grass</td>\n",
       "      <td>POINT (255968.372 4110476.079)</td>\n",
       "    </tr>\n",
       "    <tr>\n",
       "      <th>5</th>\n",
       "      <td>SJER128</td>\n",
       "      <td>center</td>\n",
       "      <td>4111388.570</td>\n",
       "      <td>257078.867</td>\n",
       "      <td>trees</td>\n",
       "      <td>POINT (257078.867 4111388.570)</td>\n",
       "    </tr>\n",
       "  </tbody>\n",
       "</table>\n",
       "</div>"
      ],
      "text/plain": [
       "    Plot_ID   Point     northing     easting plot_type  \\\n",
       "0  SJER1068  center  4111567.818  255852.376     trees   \n",
       "1   SJER112  center  4111298.971  257406.967     trees   \n",
       "2   SJER116  center  4110819.876  256838.760     grass   \n",
       "3   SJER117  center  4108752.026  256176.947     trees   \n",
       "4   SJER120  center  4110476.079  255968.372     grass   \n",
       "5   SJER128  center  4111388.570  257078.867     trees   \n",
       "\n",
       "                         geometry  \n",
       "0  POINT (255852.376 4111567.818)  \n",
       "1  POINT (257406.967 4111298.971)  \n",
       "2  POINT (256838.760 4110819.876)  \n",
       "3  POINT (256176.947 4108752.026)  \n",
       "4  POINT (255968.372 4110476.079)  \n",
       "5  POINT (257078.867 4111388.570)  "
      ]
     },
     "execution_count": 11,
     "metadata": {},
     "output_type": "execute_result"
    }
   ],
   "source": [
    "# View top 6 rows of attribute table\n",
    "sjer_plot_locations.head(6)"
   ]
  },
  {
   "cell_type": "code",
   "execution_count": 12,
   "id": "95886086-dc8b-4fa9-b6ac-28d87dbe993e",
   "metadata": {
    "tags": []
   },
   "outputs": [
    {
     "data": {
      "text/plain": [
       "0     Point\n",
       "1     Point\n",
       "2     Point\n",
       "3     Point\n",
       "4     Point\n",
       "5     Point\n",
       "6     Point\n",
       "7     Point\n",
       "8     Point\n",
       "9     Point\n",
       "10    Point\n",
       "11    Point\n",
       "12    Point\n",
       "13    Point\n",
       "14    Point\n",
       "15    Point\n",
       "16    Point\n",
       "17    Point\n",
       "dtype: object"
      ]
     },
     "execution_count": 12,
     "metadata": {},
     "output_type": "execute_result"
    }
   ],
   "source": [
    "# View the geometry type of each row\n",
    "sjer_plot_locations.geom_type"
   ]
  },
  {
   "cell_type": "markdown",
   "id": "3cf17f5e-8bec-473f-9a0b-acad596fd7b8",
   "metadata": {},
   "source": [
    "## 2 Shapefile 元数据和属性\n",
    "将 shapefile 图层使用**gpd.read_file()** 函数导入时，会自动将有关数据的信息存储为属性。  \n",
    "所有shp文件的关键元数据包括：  \n",
    "（1）对象类型：导入对象的类。  \n",
    "（2）坐标参考系 （CRS）。  \n",
    "（3）范围：shp文件的空间范围（即shp文件覆盖的地理区域）。  \n",
    "我们可以使用**and attributes** 查看这些 shapefile 元数据："
   ]
  },
  {
   "cell_type": "code",
   "execution_count": 13,
   "id": "8fd92e42-0a24-44e3-b131-5be4d36fe73b",
   "metadata": {
    "tags": []
   },
   "outputs": [
    {
     "data": {
      "text/plain": [
       "geopandas.geodataframe.GeoDataFrame"
      ]
     },
     "execution_count": 13,
     "metadata": {},
     "output_type": "execute_result"
    }
   ],
   "source": [
    "# View object type\n",
    "type(sjer_plot_locations)"
   ]
  },
  {
   "cell_type": "code",
   "execution_count": 14,
   "id": "1a59a53e-8502-410e-8c7d-192b539807ca",
   "metadata": {
    "tags": []
   },
   "outputs": [
    {
     "data": {
      "text/plain": [
       "<Projected CRS: EPSG:32611>\n",
       "Name: WGS 84 / UTM zone 11N\n",
       "Axis Info [cartesian]:\n",
       "- E[east]: Easting (metre)\n",
       "- N[north]: Northing (metre)\n",
       "Area of Use:\n",
       "- name: Between 120°W and 114°W, northern hemisphere between equator and 84°N, onshore and offshore. Canada - Alberta; British Columbia (BC); Northwest Territories (NWT); Nunavut. Mexico. United States (USA).\n",
       "- bounds: (-120.0, 0.0, -114.0, 84.0)\n",
       "Coordinate Operation:\n",
       "- name: UTM zone 11N\n",
       "- method: Transverse Mercator\n",
       "Datum: World Geodetic System 1984 ensemble\n",
       "- Ellipsoid: WGS 84\n",
       "- Prime Meridian: Greenwich"
      ]
     },
     "execution_count": 14,
     "metadata": {},
     "output_type": "execute_result"
    }
   ],
   "source": [
    "# View CRS of object\n",
    "sjer_plot_locations.crs"
   ]
  },
  {
   "cell_type": "code",
   "execution_count": 15,
   "id": "418a0415-3293-4177-8510-eeb446c785ac",
   "metadata": {
    "tags": []
   },
   "outputs": [
    {
     "data": {
      "text/plain": [
       "array([ 254738.618, 4107527.074,  258497.102, 4112167.778])"
      ]
     },
     "execution_count": 15,
     "metadata": {},
     "output_type": "execute_result"
    }
   ],
   "source": [
    "# View the spatial extent\n",
    "sjer_plot_locations.total_bounds"
   ]
  },
  {
   "cell_type": "markdown",
   "id": "a0414ca3-fe4d-48ee-99be-eaef240debe2",
   "metadata": {},
   "source": [
    "## 3 打印shp文件\n",
    "语法：**dataframe_name.plot()**  \n",
    "我们可以调用 .plot（） 而不设置图形和轴对象，如下所示："
   ]
  },
  {
   "cell_type": "code",
   "execution_count": 16,
   "id": "f3604ed3-b3fd-4374-b785-b39e3ae9ca5c",
   "metadata": {
    "tags": []
   },
   "outputs": [
    {
     "data": {
      "text/plain": [
       "<Axes: >"
      ]
     },
     "execution_count": 16,
     "metadata": {},
     "output_type": "execute_result"
    },
    {
     "data": {
      "image/png": "[encoded data removed]",
      "text/plain": [
       "<Figure size 640x480 with 1 Axes>"
      ]
     },
     "metadata": {},
     "output_type": "display_data"
    }
   ],
   "source": [
    "sjer_plot_locations.plot()"
   ]
  },
  {
   "cell_type": "markdown",
   "id": "0c84ad99-ccda-4cfb-ab5d-e8cfd6b2e62a",
   "metadata": {},
   "source": [
    "但是，一般来说最好设置轴对象，以便可以一起绘制不同的图层。执行此操作时，需要为绘图函数提供绘制的轴对象。  \n",
    "首先: **fig, ax = plt.subplots(figsize = (10,10))**  \n",
    "然后绘制数据并为参数提供 ax 对象: **sjer_plot_locations.plot(ax=ax)**"
   ]
  },
  {
   "cell_type": "code",
   "execution_count": 17,
   "id": "1f9d1f41-573d-4b4a-9813-c34c20c60fa5",
   "metadata": {
    "tags": []
   },
   "outputs": [
    {
     "data": {
      "image/png": "[encoded data removed]",
      "text/plain": [
       "<Figure size 1000x1000 with 1 Axes>"
      ]
     },
     "metadata": {},
     "output_type": "display_data"
    }
   ],
   "source": [
    "fig, ax = plt.subplots(figsize=(10, 10))\n",
    "\n",
    "# Plot the data using geopandas .plot() method\n",
    "sjer_plot_locations.plot(ax=ax)\n",
    "\n",
    "plt.show()"
   ]
  },
  {
   "cell_type": "markdown",
   "id": "769c454c-da90-44be-8005-ff6d86eb9562",
   "metadata": {},
   "source": [
    "我们可以按要素属性绘制数据并添加图例。我们可以设置以下绘图参数：\n",
    "列：  \n",
    "（1）column要用于绘制数据的属性列  \n",
    "（2）categorical=True：将图设置为绘制分类数据。  \n",
    "（3）legend：添加图例  \n",
    "（4）：增大或减小在绘图上渲染的点或标记的大小  \n",
    "（5）cmap：设置用于绘制数据的颜色  \n",
    "（6）title：添加标题。  \n",
    "（7）fig size：指定输出图的大小）。"
   ]
  },
  {
   "cell_type": "code",
   "execution_count": 19,
   "id": "d428909f-f165-44c8-ab90-37b1f2a41c4b",
   "metadata": {
    "tags": []
   },
   "outputs": [
    {
     "data": {
      "image/png": "[encoded data removed]",
      "text/plain": [
       "<Figure size 1000x1000 with 1 Axes>"
      ]
     },
     "metadata": {},
     "output_type": "display_data"
    }
   ],
   "source": [
    "fig, ax = plt.subplots(figsize=(10, 10))\n",
    "\n",
    "# Plot the data and add a legend\n",
    "sjer_plot_locations.plot(column='plot_type',\n",
    "                         categorical=True,\n",
    "                         legend=True,\n",
    "                         figsize=(10, 6),\n",
    "                         markersize=45,\n",
    "                         cmap=\"Set2\",\n",
    "                         ax=ax)\n",
    "# Add a title\n",
    "ax.set_title('SJER Plot Locations\\nMadera County, CA')\n",
    "\n",
    "plt.show()"
   ]
  }
 ],
 "metadata": {
  "kernelspec": {
   "display_name": "Python 3 (ipykernel)",
   "language": "python",
   "name": "python3"
  },
  "language_info": {
   "codemirror_mode": {
    "name": "ipython",
    "version": 3
   },
   "file_extension": ".py",
   "mimetype": "text/x-python",
   "name": "python",
   "nbconvert_exporter": "python",
   "pygments_lexer": "ipython3",
   "version": "3.9.12"
  }
 },
 "nbformat": 4,
 "nbformat_minor": 5
}
